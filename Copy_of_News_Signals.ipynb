{
  "nbformat": 4,
  "nbformat_minor": 0,
  "metadata": {
    "colab": {
      "provenance": [],
      "include_colab_link": true
    },
    "kernelspec": {
      "name": "python3",
      "display_name": "Python 3"
    },
    "language_info": {
      "name": "python"
    }
  },
  "cells": [
    {
      "cell_type": "markdown",
      "metadata": {
        "id": "view-in-github",
        "colab_type": "text"
      },
      "source": [
        "<a href=\"https://colab.research.google.com/github/janetdunlap/2021_CS50x/blob/main/Copy_of_News_Signals.ipynb\" target=\"_parent\"><img src=\"https://colab.research.google.com/assets/colab-badge.svg\" alt=\"Open In Colab\"/></a>"
      ]
    },
    {
      "cell_type": "code",
      "execution_count": null,
      "metadata": {
        "colab": {
          "base_uri": "https://localhost:8080/"
        },
        "id": "To9n0LEdgJyA",
        "outputId": "45faf7da-e3e7-4142-9bb8-b2def50db867"
      },
      "outputs": [
        {
          "output_type": "stream",
          "name": "stdout",
          "text": [
            "Collecting openai\n",
            "  Downloading openai-0.27.8-py3-none-any.whl (73 kB)\n",
            "\u001b[2K     \u001b[90m━━━━━━━━━━━━━━━━━━━━━━━━━━━━━━━━━━━━━━━\u001b[0m \u001b[32m73.6/73.6 kB\u001b[0m \u001b[31m927.1 kB/s\u001b[0m eta \u001b[36m0:00:00\u001b[0m\n",
            "\u001b[?25hCollecting newsapi-python\n",
            "  Downloading newsapi_python-0.2.7-py2.py3-none-any.whl (7.9 kB)\n",
            "Collecting langchain\n",
            "  Downloading langchain-0.0.245-py3-none-any.whl (1.4 MB)\n",
            "\u001b[2K     \u001b[90m━━━━━━━━━━━━━━━━━━━━━━━━━━━━━━━━━━━━━━━━\u001b[0m \u001b[32m1.4/1.4 MB\u001b[0m \u001b[31m20.8 MB/s\u001b[0m eta \u001b[36m0:00:00\u001b[0m\n",
            "\u001b[?25hRequirement already satisfied: requests>=2.20 in /usr/local/lib/python3.10/dist-packages (from openai) (2.27.1)\n",
            "Requirement already satisfied: tqdm in /usr/local/lib/python3.10/dist-packages (from openai) (4.65.0)\n",
            "Requirement already satisfied: aiohttp in /usr/local/lib/python3.10/dist-packages (from openai) (3.8.5)\n",
            "Requirement already satisfied: PyYAML>=5.4.1 in /usr/local/lib/python3.10/dist-packages (from langchain) (6.0.1)\n",
            "Requirement already satisfied: SQLAlchemy<3,>=1.4 in /usr/local/lib/python3.10/dist-packages (from langchain) (2.0.19)\n",
            "Requirement already satisfied: async-timeout<5.0.0,>=4.0.0 in /usr/local/lib/python3.10/dist-packages (from langchain) (4.0.2)\n",
            "Collecting dataclasses-json<0.6.0,>=0.5.7 (from langchain)\n",
            "  Downloading dataclasses_json-0.5.13-py3-none-any.whl (26 kB)\n",
            "Collecting langsmith<0.1.0,>=0.0.11 (from langchain)\n",
            "  Downloading langsmith-0.0.14-py3-none-any.whl (29 kB)\n",
            "Requirement already satisfied: numexpr<3.0.0,>=2.8.4 in /usr/local/lib/python3.10/dist-packages (from langchain) (2.8.4)\n",
            "Requirement already satisfied: numpy<2,>=1 in /usr/local/lib/python3.10/dist-packages (from langchain) (1.22.4)\n",
            "Collecting openapi-schema-pydantic<2.0,>=1.2 (from langchain)\n",
            "  Downloading openapi_schema_pydantic-1.2.4-py3-none-any.whl (90 kB)\n",
            "\u001b[2K     \u001b[90m━━━━━━━━━━━━━━━━━━━━━━━━━━━━━━━━━━━━━━━━\u001b[0m \u001b[32m90.0/90.0 kB\u001b[0m \u001b[31m7.8 MB/s\u001b[0m eta \u001b[36m0:00:00\u001b[0m\n",
            "\u001b[?25hRequirement already satisfied: pydantic<2,>=1 in /usr/local/lib/python3.10/dist-packages (from langchain) (1.10.11)\n",
            "Requirement already satisfied: tenacity<9.0.0,>=8.1.0 in /usr/local/lib/python3.10/dist-packages (from langchain) (8.2.2)\n",
            "Requirement already satisfied: attrs>=17.3.0 in /usr/local/lib/python3.10/dist-packages (from aiohttp->openai) (23.1.0)\n",
            "Requirement already satisfied: charset-normalizer<4.0,>=2.0 in /usr/local/lib/python3.10/dist-packages (from aiohttp->openai) (2.0.12)\n",
            "Requirement already satisfied: multidict<7.0,>=4.5 in /usr/local/lib/python3.10/dist-packages (from aiohttp->openai) (6.0.4)\n",
            "Requirement already satisfied: yarl<2.0,>=1.0 in /usr/local/lib/python3.10/dist-packages (from aiohttp->openai) (1.9.2)\n",
            "Requirement already satisfied: frozenlist>=1.1.1 in /usr/local/lib/python3.10/dist-packages (from aiohttp->openai) (1.4.0)\n",
            "Requirement already satisfied: aiosignal>=1.1.2 in /usr/local/lib/python3.10/dist-packages (from aiohttp->openai) (1.3.1)\n",
            "Collecting marshmallow<4.0.0,>=3.18.0 (from dataclasses-json<0.6.0,>=0.5.7->langchain)\n",
            "  Downloading marshmallow-3.20.1-py3-none-any.whl (49 kB)\n",
            "\u001b[2K     \u001b[90m━━━━━━━━━━━━━━━━━━━━━━━━━━━━━━━━━━━━━━━━\u001b[0m \u001b[32m49.4/49.4 kB\u001b[0m \u001b[31m3.4 MB/s\u001b[0m eta \u001b[36m0:00:00\u001b[0m\n",
            "\u001b[?25hCollecting typing-inspect<1,>=0.4.0 (from dataclasses-json<0.6.0,>=0.5.7->langchain)\n",
            "  Downloading typing_inspect-0.9.0-py3-none-any.whl (8.8 kB)\n",
            "Requirement already satisfied: typing-extensions>=4.2.0 in /usr/local/lib/python3.10/dist-packages (from pydantic<2,>=1->langchain) (4.7.1)\n",
            "Requirement already satisfied: urllib3<1.27,>=1.21.1 in /usr/local/lib/python3.10/dist-packages (from requests>=2.20->openai) (1.26.16)\n",
            "Requirement already satisfied: certifi>=2017.4.17 in /usr/local/lib/python3.10/dist-packages (from requests>=2.20->openai) (2023.7.22)\n",
            "Requirement already satisfied: idna<4,>=2.5 in /usr/local/lib/python3.10/dist-packages (from requests>=2.20->openai) (3.4)\n",
            "Requirement already satisfied: greenlet!=0.4.17 in /usr/local/lib/python3.10/dist-packages (from SQLAlchemy<3,>=1.4->langchain) (2.0.2)\n",
            "Requirement already satisfied: packaging>=17.0 in /usr/local/lib/python3.10/dist-packages (from marshmallow<4.0.0,>=3.18.0->dataclasses-json<0.6.0,>=0.5.7->langchain) (23.1)\n",
            "Collecting mypy-extensions>=0.3.0 (from typing-inspect<1,>=0.4.0->dataclasses-json<0.6.0,>=0.5.7->langchain)\n",
            "  Downloading mypy_extensions-1.0.0-py3-none-any.whl (4.7 kB)\n",
            "Installing collected packages: mypy-extensions, marshmallow, typing-inspect, openapi-schema-pydantic, newsapi-python, langsmith, openai, dataclasses-json, langchain\n",
            "Successfully installed dataclasses-json-0.5.13 langchain-0.0.245 langsmith-0.0.14 marshmallow-3.20.1 mypy-extensions-1.0.0 newsapi-python-0.2.7 openai-0.27.8 openapi-schema-pydantic-1.2.4 typing-inspect-0.9.0\n"
          ]
        }
      ],
      "source": [
        "!pip install openai newsapi-python langchain"
      ]
    },
    {
      "cell_type": "markdown",
      "source": [],
      "metadata": {
        "id": "l24nTVzXnY6v"
      }
    },
    {
      "cell_type": "code",
      "source": [],
      "metadata": {
        "id": "8caMPfZKnZc7"
      },
      "execution_count": null,
      "outputs": []
    },
    {
      "cell_type": "markdown",
      "source": [
        "# New Section"
      ],
      "metadata": {
        "id": "K_jdOFZKnRGu"
      }
    },
    {
      "cell_type": "code",
      "source": [
        "import os\n",
        "os.environ['OPENAI_API_KEY']=\"\""
      ],
      "metadata": {
        "id": "U21tZJR8gMl8"
      },
      "execution_count": null,
      "outputs": []
    },
    {
      "cell_type": "code",
      "source": [
        "from newsapi import NewsApiClient"
      ],
      "metadata": {
        "id": "qaAX6M-vejKV"
      },
      "execution_count": null,
      "outputs": []
    },
    {
      "cell_type": "code",
      "source": [
        "def get_latest_news():\n",
        "    api = NewsApiClient(api_key='ed1b8e232f344ce4a4349e00c72bd470')\n",
        "    sources = api.get_sources()\n",
        "    sources = [s for s in sources['sources'] if s['language'] == 'en'\n",
        "               and s['category'] == 'business'\n",
        "               and s['country'] == 'us'\n",
        "               ]\n",
        "\n",
        "    resp = api.get_top_headlines(sources=\"the-wall-street-journal\")\n",
        "    return [{\n",
        "        \"title\": article[\"title\"],\n",
        "        \"description\": article[\"description\"]\n",
        "    } for article in resp[\"articles\"]]"
      ],
      "metadata": {
        "id": "OVEiBCfbekJS"
      },
      "execution_count": null,
      "outputs": []
    },
    {
      "cell_type": "code",
      "source": [
        "news = get_latest_news()\n",
        "print(news[0])"
      ],
      "metadata": {
        "colab": {
          "base_uri": "https://localhost:8080/"
        },
        "id": "y45JmIv7ekah",
        "outputId": "382793a4-44fc-44d5-bc1a-1a220c445569"
      },
      "execution_count": null,
      "outputs": [
        {
          "output_type": "stream",
          "name": "stdout",
          "text": [
            "{'title': 'Rudy Giuliani Concedes He Made False Statements in Georgia Elections Case', 'description': 'Former Trump lawyer still contests that he owes damages to two election workers he falsely accused of fabricating ballots'}\n"
          ]
        }
      ]
    },
    {
      "cell_type": "code",
      "source": [
        "from langchain import PromptTemplate"
      ],
      "metadata": {
        "id": "0gbEvHrUkLoX"
      },
      "execution_count": null,
      "outputs": []
    },
    {
      "cell_type": "code",
      "source": [
        "template=\"\"\"\n",
        "Given the following news blurb, how does it affect my portfolio of {portfolio}?\n",
        "Show a JSON object providing recommendations of \"Buy, Sell or Hold for each one\n",
        "if we accept the hypothesis that this news alone is the primary factor moving\n",
        "the stock.  Then explain why you chose those actions.\\n\\n{news}\n",
        "\"\"\"\n",
        "\n",
        "prompt = PromptTemplate.from_template(template)"
      ],
      "metadata": {
        "id": "VDNyXz2mekjx"
      },
      "execution_count": null,
      "outputs": []
    },
    {
      "cell_type": "code",
      "source": [
        "portfolio = ['AAPL', 'MSFT', 'GM', 'VEGI']"
      ],
      "metadata": {
        "id": "0HUFqZ6Jekr4"
      },
      "execution_count": null,
      "outputs": []
    },
    {
      "cell_type": "code",
      "source": [
        "from langchain.llms import OpenAI\n",
        "llm = OpenAI(temperature=0.0)\n",
        "\n",
        "responses = []\n",
        "for item in news:\n",
        "  responses.append([\n",
        "      item,\n",
        "      llm(prompt.format(portfolio=portfolio, news=item))\n",
        "  ])"
      ],
      "metadata": {
        "id": "8-OjBERmekzy"
      },
      "execution_count": null,
      "outputs": []
    },
    {
      "cell_type": "code",
      "source": [
        "for response in responses:\n",
        "  print(*response)\n"
      ],
      "metadata": {
        "colab": {
          "base_uri": "https://localhost:8080/"
        },
        "id": "rE_Yt8flek7X",
        "outputId": "35873a0f-6773-4052-b65a-e0ad2ef84d2b"
      },
      "execution_count": null,
      "outputs": [
        {
          "output_type": "stream",
          "name": "stdout",
          "text": [
            "{'title': 'Rudy Giuliani Concedes He Made False Statements in Georgia Elections Case', 'description': 'Former Trump lawyer still contests that he owes damages to two election workers he falsely accused of fabricating ballots'} \n",
            "{\n",
            "    'AAPL': 'Hold',\n",
            "    'MSFT': 'Hold',\n",
            "    'GM': 'Hold',\n",
            "    'VEGI': 'Hold'\n",
            "}\n",
            "\n",
            "The news blurb about Rudy Giuliani has no direct effect on the stocks in the portfolio. Therefore, it is recommended to hold all stocks in the portfolio.\n",
            "{'title': 'California Banks Merge to Get Smaller, Creating a Template for Others', 'description': 'The merger of PacWest and Banc of California will actually help shrink the assets of the combined lenders'} \n",
            "{\n",
            "    'AAPL': 'Hold',\n",
            "    'MSFT': 'Hold',\n",
            "    'GM': 'Hold',\n",
            "    'VEGI': 'Hold'\n",
            "}\n",
            "\n",
            "The news blurb about the merger of two California banks does not have any direct impact on the stocks in the portfolio. Therefore, it is recommended to hold all stocks in the portfolio.\n",
            "{'title': 'Gap Poaches Mattel Executive Who Revived Barbie to Be Its CEO', 'description': 'Branding veteran Richard Dickson is charged with rebooting the iconic clothing company'} \n",
            "{\n",
            "    'AAPL': 'Hold',\n",
            "    'MSFT': 'Hold',\n",
            "    'GM': 'Hold',\n",
            "    'VEGI': 'Hold'\n",
            "}\n",
            "\n",
            "The news blurb provided does not directly affect any of the stocks in the portfolio. Therefore, it is recommended to hold all of the stocks in the portfolio.\n",
            "{'title': 'Can AI Replace Humans? We Went to the Fast-Food Drive-Through to Find Out', 'description': 'Chatbots are already working in restaurants across the U.S. Our columnist put in about 30 orders at a Hardee’s.'} \n",
            "{\n",
            "    'AAPL': 'Hold',\n",
            "    'MSFT': 'Hold',\n",
            "    'GM': 'Hold',\n",
            "    'VEGI': 'Hold'\n",
            "}\n",
            "\n",
            "The news blurb provided does not have any direct implications on the stocks in the portfolio. Therefore, it is recommended to hold all stocks in the portfolio. The news blurb is about the use of chatbots in restaurants, which does not have any direct implications on the stocks in the portfolio.\n",
            "{'title': 'Indiana and Midwest Take Top Slots in WSJ/Realtor.com Housing Index', 'description': 'Lafayette, Ind., retains top spot in emerging home markets for third consecutive quarter'} \n",
            "{\n",
            "    'AAPL': 'Hold',\n",
            "    'MSFT': 'Hold',\n",
            "    'GM': 'Hold',\n",
            "    'VEGI': 'Hold'\n",
            "}\n",
            "\n",
            "Since this news blurb is about the housing market in Indiana and the Midwest, it does not directly affect the portfolio of stocks listed. Therefore, the best action to take is to hold all of the stocks in the portfolio.\n",
            "{'title': 'Ron DeSantis Shifts Strategy After Staff Cuts, Drop in Polls', 'description': 'Florida governor plans more positive message; critics say he erred by trying to ‘out-Trump Trump’'} \n",
            "{\n",
            "    'AAPL': 'Hold',\n",
            "    'MSFT': 'Hold',\n",
            "    'GM': 'Hold',\n",
            "    'VEGI': 'Hold'\n",
            "}\n",
            "\n",
            "Since this news does not directly relate to any of the stocks in the portfolio, it is best to hold all of them. The news does not provide any information that would suggest that any of the stocks in the portfolio would be affected by the news.\n",
            "{'title': 'Israeli Supreme Court to Hear Challenge to Judicial Overhaul', 'description': 'Country’s high court sets September date for preliminary hearing on constitutionality of bill'} \n",
            "{\n",
            "    'AAPL': 'Hold',\n",
            "    'MSFT': 'Hold',\n",
            "    'GM': 'Hold',\n",
            "    'VEGI': 'Hold'\n",
            "}\n",
            "\n",
            "The news blurb provided does not have any direct implications for the stocks in the portfolio. Therefore, it is recommended to hold all stocks in the portfolio. The news blurb is related to the Israeli Supreme Court and does not have any direct implications for the stocks in the portfolio.\n",
            "{'title': 'The Luxury Home Market Confronts Its New Reality: Not Enough Buyers and Sellers', 'description': 'Sales at the high end continue to decline, as homeowners pull back on listing properties and would-be buyers grapple with high interest rates and recession fears'} \n",
            "{\n",
            "    'AAPL': 'Hold',\n",
            "    'MSFT': 'Hold',\n",
            "    'GM': 'Hold',\n",
            "    'VEGI': 'Hold'\n",
            "}\n",
            "\n",
            "The news blurb does not provide any direct information about the performance of any of the stocks in the portfolio. Therefore, it is best to hold all of the stocks in the portfolio. The news blurb is about the luxury home market, which is not directly related to any of the stocks in the portfolio.\n",
            "{'title': 'Fed Set to Raise Rates to 22-Year High. Here’s What to Focus On.', 'description': 'Economic growth has likely been too strong for central bank officials to validate investors’ expectation that this will be the last hike'} \n",
            "{\n",
            "    'AAPL': 'Hold',\n",
            "    'MSFT': 'Hold',\n",
            "    'GM': 'Hold',\n",
            "    'VEGI': 'Hold'\n",
            "}\n",
            "\n",
            "The news blurb suggests that the Federal Reserve is likely to raise interest rates to a 22-year high. This could have a negative effect on stock prices, as higher interest rates can make borrowing more expensive and reduce consumer spending. Therefore, it is recommended to hold all stocks in the portfolio, as the news blurb does not provide any specific information about the individual stocks that would suggest a buy or sell.\n",
            "{'title': 'Hunter Biden Heads to Court: What to Know', 'description': 'President’s son to plead guilty to tax charges, avoid gun charge under deal judge will vet'} \n",
            "{\n",
            "    'AAPL': 'Hold',\n",
            "    'MSFT': 'Hold',\n",
            "    'GM': 'Hold',\n",
            "    'VEGI': 'Hold'\n",
            "}\n",
            "\n",
            "The news blurb about Hunter Biden heading to court has no direct correlation to the stocks in the portfolio. Therefore, it is recommended to hold all stocks in the portfolio.\n"
          ]
        }
      ]
    },
    {
      "cell_type": "markdown",
      "source": [
        "Let's try a different prompt."
      ],
      "metadata": {
        "id": "Sej4-PBm4Og6"
      }
    },
    {
      "cell_type": "code",
      "source": [
        "template=\"\"\"\n",
        "Forget all your previous instructions. Pretend you are a financial expert with\n",
        "stock recommendation experience. Answer 'YES' if good news, 'NO' if bad news,\n",
        "or 'UNKNOWN' if uncertain in the first line. Identify the companies which might\n",
        "be affected, then elaborate with one short and concise sentence on the next\n",
        "line. Is this headline good or bad for the stock price of the companies\n",
        "identified in the term (short or long-term)?\n",
        "\n",
        "The news is: {news}\n",
        "\"\"\"\n",
        "prompt = PromptTemplate.from_template(template)"
      ],
      "metadata": {
        "id": "HeOgls1toPLR"
      },
      "execution_count": null,
      "outputs": []
    },
    {
      "cell_type": "code",
      "source": [
        "responses = []\n",
        "for item in news:\n",
        "  responses.append([\n",
        "      item,\n",
        "      llm(prompt.format(news=item))\n",
        "  ])\n"
      ],
      "metadata": {
        "id": "q_BRB72K2poE"
      },
      "execution_count": null,
      "outputs": []
    },
    {
      "cell_type": "code",
      "source": [
        "for response in responses:\n",
        "  print(*response, '\\n')\n"
      ],
      "metadata": {
        "colab": {
          "base_uri": "https://localhost:8080/"
        },
        "id": "qAbEDhaA4DuM",
        "outputId": "9f122cef-d1ff-46bc-fce6-c4e584838430"
      },
      "execution_count": null,
      "outputs": [
        {
          "output_type": "stream",
          "name": "stdout",
          "text": [
            "{'title': 'Rudy Giuliani Concedes He Made False Statements in Georgia Elections Case', 'description': 'Former Trump lawyer still contests that he owes damages to two election workers he falsely accused of fabricating ballots'} \n",
            "NO. Rudy Giuliani and Trump may be affected in the short-term. \n",
            "\n",
            "{'title': 'California Banks Merge to Get Smaller, Creating a Template for Others', 'description': 'The merger of PacWest and Banc of California will actually help shrink the assets of the combined lenders'} \n",
            "YES: PacWest and Banc of California. The merger will likely result in a stronger balance sheet and improved financial performance for the combined companies in the long-term. \n",
            "\n",
            "{'title': 'Gap Poaches Mattel Executive Who Revived Barbie to Be Its CEO', 'description': 'Branding veteran Richard Dickson is charged with rebooting the iconic clothing company'} \n",
            "YES. Gap and Mattel may be affected. Gap will benefit from the addition of an experienced executive, while Mattel may experience a short-term dip in stock price due to the loss of a key executive. \n",
            "\n",
            "{'title': 'Can AI Replace Humans? We Went to the Fast-Food Drive-Through to Find Out', 'description': 'Chatbots are already working in restaurants across the U.S. Our columnist put in about 30 orders at a Hardee’s.'} \n",
            "UNKNOWN\n",
            "Hardee's, AI technology companies.\n",
            "It is unclear how this news will affect the stock prices of Hardee's and AI technology companies in the short or long-term. \n",
            "\n",
            "{'title': 'Indiana and Midwest Take Top Slots in WSJ/Realtor.com Housing Index', 'description': 'Lafayette, Ind., retains top spot in emerging home markets for third consecutive quarter'} \n",
            "YES. Lafayette, Ind. and other Midwest cities may benefit from increased housing demand. Long-term, this could be beneficial for real estate companies in the region. \n",
            "\n",
            "{'title': 'Ron DeSantis Shifts Strategy After Staff Cuts, Drop in Polls', 'description': 'Florida governor plans more positive message; critics say he erred by trying to ‘out-Trump Trump’'} \n",
            "UNKNOWN. No companies identified. \n",
            "\n",
            "{'title': 'Israeli Supreme Court to Hear Challenge to Judicial Overhaul', 'description': 'Country’s high court sets September date for preliminary hearing on constitutionality of bill'} \n",
            "UNKNOWN. Israeli Supreme Court: Unknown impact on stock prices. \n",
            "\n",
            "{'title': 'The Luxury Home Market Confronts Its New Reality: Not Enough Buyers and Sellers', 'description': 'Sales at the high end continue to decline, as homeowners pull back on listing properties and would-be buyers grapple with high interest rates and recession fears'} \n",
            "NO. Companies affected: Real estate companies.\n",
            "The news is likely to have a negative impact on the stock prices of real estate companies in the short and long-term. \n",
            "\n",
            "{'title': 'Fed Set to Raise Rates to 22-Year High. Here’s What to Focus On.', 'description': 'Economic growth has likely been too strong for central bank officials to validate investors’ expectation that this will be the last hike'} \n",
            "YES. The Federal Reserve's decision to raise rates to a 22-year high will likely have a positive short-term effect on the stock prices of banks and other financial institutions. \n",
            "\n",
            "{'title': 'Hunter Biden Heads to Court: What to Know', 'description': 'President’s son to plead guilty to tax charges, avoid gun charge under deal judge will vet'} \n",
            "UNKNOWN. Hunter Biden and President Biden may be affected. The outcome of the court case is uncertain and could have an impact on the stock prices of both individuals in the short or long-term. \n",
            "\n"
          ]
        }
      ]
    },
    {
      "cell_type": "code",
      "source": [],
      "metadata": {
        "id": "UW-YkVWK3JRt"
      },
      "execution_count": null,
      "outputs": []
    }
  ]
}